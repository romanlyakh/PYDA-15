{
 "cells": [
  {
   "cell_type": "markdown",
   "metadata": {},
   "source": [
    "**Задание 1**\n",
    "     "
   ]
  },
  {
   "cell_type": "code",
   "execution_count": 54,
   "metadata": {},
   "outputs": [
    {
     "name": "stdout",
     "output_type": "stream",
     "text": [
      "Результат: {98, 35, 36, 15, 213, 54, 119}\n"
     ]
    }
   ],
   "source": [
    "ids = {'user1': [213, 213, 213, 15, 213],\n",
    "'user2': [54, 54, 119, 119, 119, 36],\n",
    "'user3': [213, 98, 98, 35]}\n",
    "geo=set()\n",
    "for line in ids.values():\n",
    "    for value in line:\n",
    "        geo.add(value)\n",
    "print('Результат:',geo)"
   ]
  },
  {
   "cell_type": "markdown",
   "metadata": {},
   "source": [
    "**Задание 2**"
   ]
  },
  {
   "cell_type": "code",
   "execution_count": 89,
   "metadata": {},
   "outputs": [
    {
     "name": "stdout",
     "output_type": "stream",
     "text": [
      "Поисковых запросов, содержащих 3 слов(а): 50.0%\n",
      "Поисковых запросов, содержащих 2 слов(а): 37.5%\n",
      "Поисковых запросов, содержащих 1 слов(а): 12.5%\n"
     ]
    }
   ],
   "source": [
    "queries = [\n",
    "'смотреть сериалы онлайн',\n",
    "'новости спорта',\n",
    "'афиша кино',\n",
    "'курс доллара',\n",
    "'сериалы этим летом',\n",
    "'курс по питону',\n",
    "'сериалы про спорт',\n",
    "'киберспорт'\n",
    "]\n",
    "n=0\n",
    "dict_count_words = {}\n",
    "array = []\n",
    "\n",
    "for line in queries:\n",
    "    array.append(len(queries[n].split(' ')))\n",
    "    n+=1\n",
    "\n",
    "for x in array:\n",
    "    dict_count_words.setdefault(x, array.count(x))    \n",
    "\n",
    "summ=sum(dict_count_words.values())\n",
    "for count_word, value in dict_count_words.items():\n",
    "    print(f'Поисковых запросов, содержащих {count_word} слов(а): {round(value/summ*100,2)}%')"
   ]
  },
  {
   "cell_type": "markdown",
   "metadata": {},
   "source": [
    "**Задание 3**"
   ]
  },
  {
   "cell_type": "code",
   "execution_count": 70,
   "metadata": {},
   "outputs": [
    {
     "name": "stdout",
     "output_type": "stream",
     "text": [
      "adwords {'revenue': 35, 'cost': 34, 'ROI': 2.94}\n",
      "facebook {'revenue': 103, 'cost': 110, 'ROI': -6.36}\n",
      "twitter {'revenue': 11, 'cost': 24, 'ROI': -54.17}\n",
      "vk {'revenue': 103, 'cost': 98, 'ROI': 5.1}\n",
      "yandex {'revenue': 179, 'cost': 153, 'ROI': 16.99}\n"
     ]
    }
   ],
   "source": [
    "results = {\n",
    "'vk': {'revenue': 103, 'cost': 98},\n",
    "'yandex': {'revenue': 179, 'cost': 153},\n",
    "'facebook': {'revenue': 103, 'cost': 110},\n",
    "'adwords': {'revenue': 35, 'cost': 34},\n",
    "'twitter': {'revenue': 11, 'cost': 24},\n",
    "}\n",
    " \n",
    "\n",
    "for line in results.values():\n",
    "    line['ROI'] = round((line['revenue']/line['cost'] - 1) * 100,2)\n",
    "   \n",
    "    \n",
    "for key in sorted(results.keys()): \n",
    "    print(key, results[key])\n",
    "    \n",
    "\n",
    "\n"
   ]
  },
  {
   "cell_type": "markdown",
   "metadata": {},
   "source": [
    "**Задание 4**"
   ]
  },
  {
   "cell_type": "code",
   "execution_count": 72,
   "metadata": {},
   "outputs": [
    {
     "name": "stdout",
     "output_type": "stream",
     "text": [
      "Максимальный объем продаж на рекламном канале: yandex\n"
     ]
    }
   ],
   "source": [
    "stats = {'facebook': 55, 'yandex': 115, 'vk': 120, 'google': 99, 'email': 42, 'ok': 98}\n",
    "max_val = max(stats.values())\n",
    "for k, v in stats.items():\n",
    "    if v == max_val: print('Максимальный объем продаж на рекламном канале:',key)"
   ]
  },
  {
   "cell_type": "code",
   "execution_count": null,
   "metadata": {},
   "outputs": [],
   "source": []
  }
 ],
 "metadata": {
  "kernelspec": {
   "display_name": "Python 3",
   "language": "python",
   "name": "python3"
  },
  "language_info": {
   "codemirror_mode": {
    "name": "ipython",
    "version": 3
   },
   "file_extension": ".py",
   "mimetype": "text/x-python",
   "name": "python",
   "nbconvert_exporter": "python",
   "pygments_lexer": "ipython3",
   "version": "3.8.3"
  }
 },
 "nbformat": 4,
 "nbformat_minor": 4
}
