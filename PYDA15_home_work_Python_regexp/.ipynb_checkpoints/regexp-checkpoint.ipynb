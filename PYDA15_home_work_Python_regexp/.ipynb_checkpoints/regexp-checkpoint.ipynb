{
 "cells": [
  {
   "cell_type": "markdown",
   "metadata": {},
   "source": [
    "**Задание 1**"
   ]
  },
  {
   "cell_type": "code",
   "execution_count": 3,
   "metadata": {},
   "outputs": [
    {
     "name": "stdout",
     "output_type": "stream",
     "text": [
      "car_id = 122\n",
      "Номер не валиден\n"
     ]
    }
   ],
   "source": [
    "import re\n",
    "car_id = input('car_id = ')\n",
    "def auto_number(car_id):\n",
    "    \n",
    "    if len(car_id) in (8, 9):\n",
    "        number = re.match('[авекмнорстух]\\d{3}[авекмнорстух]{2}\\d+', car_id)\n",
    "        if  number:\n",
    "            n = re.match('[авекмнорстух]\\d{3}[авекмнорстух]{2}', car_id).group(0)\n",
    "            region =  re.search('(?<=[авекмнорстух]{2})\\d+',car_id).group(0)\n",
    "            return print('Номер', n, 'валиден.','Регион:', region)\n",
    "        else: return print('Номер не валиден')\n",
    "    else: return print('Номер не валиден')\n",
    "    \n",
    "auto_number(car_id)    \n"
   ]
  },
  {
   "cell_type": "markdown",
   "metadata": {},
   "source": [
    "**Задание 2**"
   ]
  },
  {
   "cell_type": "code",
   "execution_count": 63,
   "metadata": {},
   "outputs": [
    {
     "name": "stdout",
     "output_type": "stream",
     "text": [
      "some_string = gg gg gg f\n"
     ]
    },
    {
     "data": {
      "text/plain": [
       "'gg f'"
      ]
     },
     "execution_count": 63,
     "metadata": {},
     "output_type": "execute_result"
    }
   ],
   "source": [
    "some_string = input('some_string = ')\n",
    "def new_string(some_string):\n",
    "    result = re.sub(r'\\b([^\\W\\d_]+)(\\s+\\1)+\\b', r'\\1', some_string)\n",
    "    return result\n",
    "\n",
    "new_string(some_string)"
   ]
  },
  {
   "cell_type": "markdown",
   "metadata": {},
   "source": [
    "**Задание 3**"
   ]
  },
  {
   "cell_type": "code",
   "execution_count": 74,
   "metadata": {},
   "outputs": [
    {
     "name": "stdout",
     "output_type": "stream",
     "text": [
      "some_words = Near Field Communication\n"
     ]
    },
    {
     "data": {
      "text/plain": [
       "'NFC'"
      ]
     },
     "execution_count": 74,
     "metadata": {},
     "output_type": "execute_result"
    }
   ],
   "source": [
    "some_words= input('some_words = ')\n",
    "def acronym(some_words):\n",
    "    result = ''\n",
    "    reg_words = re.findall('^[а-яёА-Я-zA-z]|(?<=[\\s*])[а-яЁА-Я-zA-z]', some_words)\n",
    "    for i in reg_words:\n",
    "        result += i.upper()\n",
    "    return result\n",
    "\n",
    "acronym(some_words)"
   ]
  },
  {
   "cell_type": "markdown",
   "metadata": {},
   "source": [
    "**Задание 4**"
   ]
  },
  {
   "cell_type": "code",
   "execution_count": 7,
   "metadata": {},
   "outputs": [
    {
     "name": "stdout",
     "output_type": "stream",
     "text": [
      "@gmail.com: 2\n",
      "@test.in: 1\n",
      "@ya.ru: 2\n",
      "@mail.ru: 1\n"
     ]
    }
   ],
   "source": [
    "emails = ['test@gmail.com', 'xyz@test.in', 'test@ya.ru', 'xyz@mail.ru', 'xyz@ya.ru', 'xyz@gmail.com']\n",
    "\n",
    "def distrib_domain(emails):\n",
    "    reg_email = r'(\\w+[a-zA-Z])(@\\w+[a-z].\\w+[a-z])'\n",
    "    dom_count = {}\n",
    "    for dom in emails:\n",
    "        dom_name = re.search( reg_email, dom).group(2)\n",
    "        if dom_name in dom_count:\n",
    "            dom_count[dom_name] += 1\n",
    "        else:\n",
    "            dom_count[dom_name] = 1\n",
    "            \n",
    "    for key, value in dom_count.items():\n",
    "        print(f'{key}: {value}')   \n",
    "\n",
    "distrib_domain(emails)\n"
   ]
  },
  {
   "cell_type": "code",
   "execution_count": null,
   "metadata": {},
   "outputs": [],
   "source": []
  },
  {
   "cell_type": "code",
   "execution_count": null,
   "metadata": {},
   "outputs": [],
   "source": []
  }
 ],
 "metadata": {
  "kernelspec": {
   "display_name": "Python 3",
   "language": "python",
   "name": "python3"
  },
  "language_info": {
   "codemirror_mode": {
    "name": "ipython",
    "version": 3
   },
   "file_extension": ".py",
   "mimetype": "text/x-python",
   "name": "python",
   "nbconvert_exporter": "python",
   "pygments_lexer": "ipython3",
   "version": "3.8.3"
  }
 },
 "nbformat": 4,
 "nbformat_minor": 4
}
