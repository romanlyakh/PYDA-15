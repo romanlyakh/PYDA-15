{
 "cells": [
  {
   "cell_type": "markdown",
   "metadata": {},
   "source": [
    "**Задание 1**"
   ]
  },
  {
   "cell_type": "code",
   "execution_count": 5,
   "metadata": {},
   "outputs": [
    {
     "name": "stdout",
     "output_type": "stream",
     "text": [
      "Введите фразу 1 Насколько проще было бы писать программы, если бы не заказчики\n",
      "Введите фразу 2 Насколько проще было бы писать программы, если бы не заказчики\n",
      "Фразы равной длины\n"
     ]
    }
   ],
   "source": [
    "    phrase_1=input('phrase_1 = ')\n",
    "    phrase_2=input('phrase_2 = ')\n",
    "    if  len(phrase_1) > len(phrase_2): print('Фраза 1 длиннее фразы 2')\n",
    "    elif len(phrase_1) < len(phrase_2): print('Фраза 2 длиннее фразы 1')\n",
    "    else:\n",
    "        print('Фразы равной длины')\n",
    "    0"
   ]
  },
  {
   "cell_type": "markdown",
   "metadata": {},
   "source": [
    "**Задание 2**"
   ]
  },
  {
   "cell_type": "code",
   "execution_count": 3,
   "metadata": {},
   "outputs": [
    {
     "name": "stdout",
     "output_type": "stream",
     "text": [
      "year = 2000\n",
      "Високосный год\n"
     ]
    }
   ],
   "source": [
    "year=int(input('year = '))\n",
    "if year<0: print('Номер года введен неккоректно, попробуйте ещё раз!') \n",
    "elif (year%4 == 0) and (year%400 == 0): print('Високосный год')\n",
    "else: print('Обычный год')\n",
    "    "
   ]
  },
  {
   "cell_type": "markdown",
   "metadata": {},
   "source": [
    "**Задание 3**"
   ]
  },
  {
   "cell_type": "code",
   "execution_count": 7,
   "metadata": {},
   "outputs": [
    {
     "name": "stdout",
     "output_type": "stream",
     "text": [
      "Введите день:10\n",
      "Введите месяц:Март\n",
      "Ваш знак зодиака:Рыбы\n"
     ]
    }
   ],
   "source": [
    "date=int(input('Введите день:')) \n",
    "month=input('Введите месяц:')\n",
    "if (date>=21 and date<=31 and month == 'Март') or ( month == 'Апрель' and date >= 1 and date <= 20): print('Ваш знак зодиака:Овен')\n",
    "elif (date>=21 and date<=30 and month == 'Апрель') or ( month == 'Май' and date >= 1 and date <= 20): print('Ваш знак зодиака:Телец')\n",
    "elif (date>=21 and date<=31 and month == 'Май') or ( month == 'Июнь' and date >= 1 and date <= 20): print('Ваш знак зодиака:Близнецы')\n",
    "elif (date>=21 and date<=30 and month == 'Июнь') or ( month == 'Июль' and date >= 1 and date <= 20): print('Ваш знак зодиака:Рак')\n",
    "elif (date>=21 and date<=31 and month == 'Июль') or ( month == 'Август' and date >= 1 and date <= 20): print('Ваш знак зодиака:Лев')\n",
    "elif (date>=21 and date<=31 and month == 'Август') or ( month == 'Сентябрь' and date >= 1 and date <= 20): print('Ваш знак зодиака:Дева')\n",
    "elif (date>=21 and date<=30 and month == 'Сентябрь') or ( month == 'Октябрь' and date >= 1 and date <= 20): print('Ваш знак зодиака:Весы')\n",
    "elif (date>=21 and date<=31 and month == 'Октябрь') or ( month == 'Ноябрь' and date >= 1 and date <= 20): print('Ваш знак зодиака:Скорпион')\n",
    "elif (date>=21 and date<=30 and month == 'Ноябрь') or ( month == 'Декабрь' and date >= 1 and date <= 20): print('Ваш знак зодиака:Стрелец')  \n",
    "elif (date>=21 and date<=31 and month == 'Декабрь') or ( month == 'Январь' and date >= 1 and date <= 20): print('Ваш знак зодиака:Козерог')\n",
    "elif (date>=21 and date<=31 and month == 'Январь') or ( month =='Февраль' and date >= 1 and date <= 20): print('Ваш знак зодиака:Водолей')\n",
    "else: print('Ваш знак зодиака:Рыбы')\n",
    "    "
   ]
  },
  {
   "cell_type": "markdown",
   "metadata": {},
   "source": [
    "**Задание 4**"
   ]
  },
  {
   "cell_type": "code",
   "execution_count": 22,
   "metadata": {},
   "outputs": [
    {
     "name": "stdout",
     "output_type": "stream",
     "text": [
      "width = 45\n",
      "length = 89\n",
      "height = 45\n",
      "Коробка №2\n"
     ]
    }
   ],
   "source": [
    "width=int(input('width = ')) \n",
    "length=int(input('length = ')) \n",
    "height=int(input('height = '))\n",
    "if length > 200: print('Упаковка для лыж')\n",
    "elif (width < 15) and (length < 15) and (height < 15): print('Коробка №1')\n",
    "elif (15 < width < 50) or (15 < length < 50) or (15 < height < 50): print('Коробка №2')\n",
    "else: print('Стандартная коробка №3')\n",
    "\n",
    "   "
   ]
  },
  {
   "cell_type": "code",
   "execution_count": null,
   "metadata": {},
   "outputs": [],
   "source": []
  }
 ],
 "metadata": {
  "kernelspec": {
   "display_name": "Python 3",
   "language": "python",
   "name": "python3"
  },
  "language_info": {
   "codemirror_mode": {
    "name": "ipython",
    "version": 3
   },
   "file_extension": ".py",
   "mimetype": "text/x-python",
   "name": "python",
   "nbconvert_exporter": "python",
   "pygments_lexer": "ipython3",
   "version": "3.8.3"
  }
 },
 "nbformat": 4,
 "nbformat_minor": 4
}
