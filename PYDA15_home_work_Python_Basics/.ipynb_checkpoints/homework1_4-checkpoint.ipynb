{
 "cells": [
  {
   "cell_type": "markdown",
   "metadata": {},
   "source": [
    "**Задание 1**"
   ]
  },
  {
   "cell_type": "code",
   "execution_count": 5,
   "metadata": {},
   "outputs": [
    {
     "name": "stdout",
     "output_type": "stream",
     "text": [
      "Введите фразу 1 Насколько проще было бы писать программы, если бы не заказчики\n",
      "Введите фразу 2 Насколько проще было бы писать программы, если бы не заказчики\n",
      "Фразы равной длины\n"
     ]
    }
   ],
   "source": [
    "    phrase_1=input('phrase_1 = ')\n",
    "    phrase_2=input('phrase_2 = ')\n",
    "    if  phrase_1>phrase_2: print('Фраза 1 длиннее фразы 2')\n",
    "    elif phrase_1<phrase_2: print('Фраза 2 длиннее фразы 1')\n",
    "    else:\n",
    "        print('Фразы равной длины')\n",
    "    0"
   ]
  },
  {
   "cell_type": "markdown",
   "metadata": {},
   "source": [
    "**Задание 2**"
   ]
  },
  {
   "cell_type": "code",
   "execution_count": 15,
   "metadata": {},
   "outputs": [
    {
     "name": "stdout",
     "output_type": "stream",
     "text": [
      "year = 2000\n",
      "Високосный год\n"
     ]
    }
   ],
   "source": [
    "year=int(input('year = '))\n",
    "if year<0: print('Номер года введен неккоректно, попробуйте ещё раз!') \n",
    "elif year%4==0: print('Високосный год')\n",
    "else: print('Обычный год')\n",
    "    "
   ]
  },
  {
   "cell_type": "markdown",
   "metadata": {},
   "source": [
    "**Задание 3**"
   ]
  },
  {
   "cell_type": "code",
   "execution_count": 18,
   "metadata": {},
   "outputs": [
    {
     "name": "stdout",
     "output_type": "stream",
     "text": [
      "Введите день:3\n",
      "Введите месяц:Февраль\n",
      "Ваш знак зодиака:Водолей\n"
     ]
    }
   ],
   "source": [
    "date=int(input('Введите день:')) \n",
    "month=input('Введите месяц:')\n",
    "if (date>=21 and date<=31 and month=='Март') or ( month=='Апрель' and date>=1 and date<=20): print('Ваш знак зодиака:Овен')\n",
    "if (date>=21 and date<=30 and month=='Апрель') or ( month=='Май' and date>=1 and date<=20): print('Ваш знак зодиака:Телец')\n",
    "if (date>=21 and date<=31 and month=='Май') or ( month=='Июнь' and date>=1 and date<=20): print('Ваш знак зодиака:Близнецы')\n",
    "if (date>=21 and date<=30 and month=='Июнь') or ( month=='Июль' and date>=1 and date<=20): print('Ваш знак зодиака:Рак')\n",
    "if (date>=21 and date<=31 and month=='Июль') or ( month=='Август' and date>=1 and date<=20): print('Ваш знак зодиака:Лев')\n",
    "if (date>=21 and date<=31 and month=='Август') or ( month=='Сентябрь' and date>=1 and date<=20): print('Ваш знак зодиака:Дева')\n",
    "if (date>=21 and date<=30 and month=='Сентябрь') or ( month=='Октябрь' and date>=1 and date<=20): print('Ваш знак зодиака:Весы')\n",
    "if (date>=21 and date<=31 and month=='Октябрь') or ( month=='Ноябрь' and date>=1 and date<=20): print('Ваш знак зодиака:Скорпион')\n",
    "if (date>=21 and date<=30 and month=='Ноябрь') or ( month=='Декабрь' and date>=1 and date<=20): print('Ваш знак зодиака:Стрелец')  \n",
    "if (date>=21 and date<=31 and month=='Декабрь') or ( month=='Январь' and date>=1 and date<=20): print('Ваш знак зодиака:Козерог')\n",
    "if (date>=21 and date<=31 and month=='Январь') or ( month=='Февраль' and date>=1 and date<=20): print('Ваш знак зодиака:Водолей')\n",
    "if (date>=21 and date<=29 and month=='Февраль') or ( month=='Март' and date>=1 and date<=20): print('Ваш знак зодиака:Рыбы')\n",
    "    "
   ]
  },
  {
   "cell_type": "markdown",
   "metadata": {},
   "source": [
    "**Задание 4**"
   ]
  },
  {
   "cell_type": "code",
   "execution_count": 24,
   "metadata": {},
   "outputs": [
    {
     "name": "stdout",
     "output_type": "stream",
     "text": [
      "width = 4\n",
      "length = 201\n",
      "height = 5\n",
      "Упаковка для лыж\n"
     ]
    }
   ],
   "source": [
    "width=int(input('width = ')) \n",
    "length=int(input('length = ')) \n",
    "height=int(input('height = '))\n",
    "if (width<15) and (length<15) and (height<15): print('Коробка №1')\n",
    "elif (15<width<50) or (15<length<50) or (15<height<50): print('Коробка №2')\n",
    "elif length>200: print('Упаковка для лыж')\n",
    "else: print('Стандартная коробка №3')   "
   ]
  },
  {
   "cell_type": "code",
   "execution_count": null,
   "metadata": {},
   "outputs": [],
   "source": []
  }
 ],
 "metadata": {
  "kernelspec": {
   "display_name": "Python 3",
   "language": "python",
   "name": "python3"
  },
  "language_info": {
   "codemirror_mode": {
    "name": "ipython",
    "version": 3
   },
   "file_extension": ".py",
   "mimetype": "text/x-python",
   "name": "python",
   "nbconvert_exporter": "python",
   "pygments_lexer": "ipython3",
   "version": "3.8.3"
  }
 },
 "nbformat": 4,
 "nbformat_minor": 4
}
